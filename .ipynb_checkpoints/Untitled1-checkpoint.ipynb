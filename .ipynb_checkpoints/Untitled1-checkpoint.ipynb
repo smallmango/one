{
 "cells": [
  {
   "cell_type": "code",
   "execution_count": 1,
   "metadata": {},
   "outputs": [
    {
     "data": {
      "image/png": "[encoded data removed]",
      "text/plain": [
       "<matplotlib.figure.Figure at 0x7f7dfd8e46a0>"
      ]
     },
     "metadata": {},
     "output_type": "display_data"
    }
   ],
   "source": [
    "import pandas as pd\n",
    "import numpy as np\n",
    "import pylab as pl\n",
    "\n",
    "\n",
    "\n",
    "xlsx_file = pd.ExcelFile(\"./Absolute_error.xlsx\")\n",
    "data = xlsx_file.parse('Sheet1')\n",
    "\n",
    "list_GPR_10 = data['GPR(K=10)'].values\n",
    "list_GPR_100 = data['GPR(K=100)'].values\n",
    "list_GPR_1000 = data['GPR(K=1000)'].values\n",
    "list_SVR_LN = data['SVR(Lin)'].values\n",
    "list_SVR_GU = data['SVR(Gau)'].values\n",
    "list_MLG = data['MLG'].values\n",
    "list_OPLDA = data['OPLDA'].values\n",
    "list_OPMFA = data['OPMFA'].values\n",
    "\n",
    "x_len = len(list_GPR_10)\n",
    "np_x = np.arange(x_len)\n",
    "\n",
    "pl.plot(np_x, list_MLG, 'r')\n",
    "\n",
    "pl.xlabel('Absolute error[year]')\n",
    "pl.ylabel('Cumulative score[%]')\n",
    "\n",
    "pl.xlim(0.0, 20.0)\n",
    "pl.ylim(0.0, 100.0)\n",
    "pl.show()\n",
    "\n"
   ]
  },
  {
   "cell_type": "code",
   "execution_count": null,
   "metadata": {
    "collapsed": true
   },
   "outputs": [],
   "source": []
  }
 ],
 "metadata": {
  "kernelspec": {
   "display_name": "Python 3",
   "language": "python",
   "name": "python3"
  },
  "language_info": {
   "codemirror_mode": {
    "name": "ipython",
    "version": 3
   },
   "file_extension": ".py",
   "mimetype": "text/x-python",
   "name": "python",
   "nbconvert_exporter": "python",
   "pygments_lexer": "ipython3",
   "version": "3.6.0"
  }
 },
 "nbformat": 4,
 "nbformat_minor": 2
}
