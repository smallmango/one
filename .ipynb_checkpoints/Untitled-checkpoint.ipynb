{
 "cells": [
  {
   "cell_type": "code",
   "execution_count": 8,
   "metadata": {},
   "outputs": [
    {
     "name": "stdout",
     "output_type": "stream",
     "text": [
      "<torch.utils.data.dataloader.DataLoader object at 0x7f6abf5e8860>\n"
     ]
    }
   ],
   "source": [
    "import torch\n",
    "import torch.utils.data as Data\n",
    "import Data_Process\n",
    "import net\n",
    "from torch import nn\n",
    "from torch.autograd import Variable\n",
    "\n",
    "torch.manual_seed(2)\n",
    "\n",
    "BATCH_SIZE = 64\n",
    "EPOCH = 50\n",
    "LR = 0.01\n",
    "\n",
    "trainData, testData = Data_Process.dataProcess()\n",
    "\n",
    "loader = Data.DataLoader(\n",
    "    dataset= trainData,\n",
    "    batch_size= BATCH_SIZE,\n",
    "    shuffle= True,\n",
    "    num_workers= 1,\n",
    "    pin_memory=True\n",
    ")\n",
    "\n",
    "net = net.Net()\n",
    "\n",
    "optimizer = torch.optim.Adam(net.parameters(), lr= LR)\n",
    "lossfunc = nn.CrossEntropyLoss()\n",
    "for epoch in range(EPOCH):\n",
    "    for step, (img, age, ageBinary) in enumerate(loader):\n",
    "        x = Variable(img)\n",
    "        y = Variable(ageBinary)\n",
    "        output = net.forward_single(x)\n",
    "        loss = lossfunc(output, y)\n",
    "        optimizer.zero_grad()\n",
    "        loss.backward()\n",
    "        optimizer.step()\n",
    "        if step % 100 == 0:\n",
    "            print('Epoch : ', epoch, '| train loss : %.4f' % loss.data[0])"
   ]
  },
  {
   "cell_type": "code",
   "execution_count": null,
   "metadata": {
    "collapsed": true
   },
   "outputs": [],
   "source": []
  }
 ],
 "metadata": {
  "kernelspec": {
   "display_name": "Python 3",
   "language": "python",
   "name": "python3"
  },
  "language_info": {
   "codemirror_mode": {
    "name": "ipython",
    "version": 3
   },
   "file_extension": ".py",
   "mimetype": "text/x-python",
   "name": "python",
   "nbconvert_exporter": "python",
   "pygments_lexer": "ipython3",
   "version": "3.6.0"
  }
 },
 "nbformat": 4,
 "nbformat_minor": 2
}
